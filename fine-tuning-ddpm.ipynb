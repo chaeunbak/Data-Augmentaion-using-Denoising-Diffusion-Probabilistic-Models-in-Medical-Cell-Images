{
 "cells": [
  {
   "cell_type": "code",
   "execution_count": null,
   "metadata": {},
   "outputs": [],
   "source": [
    "# 랜덤 시드 설정\n",
    "import random\n",
    "import numpy as np\n",
    "\n",
    "random.seed(42)\n",
    "np.random.seed(42)\n",
    "torch.manual_seed(42)\n",
    "torch.cuda.manual_seed(42)\n",
    "torch.cuda.manual_seed_all(42)  # if you are using multi-GPU.\n",
    "torch.backends.cudnn.deterministic = True\n",
    "torch.backends.cudnn.benchmark = False"
   ]
  },
  {
   "cell_type": "code",
   "execution_count": 1,
   "metadata": {},
   "outputs": [],
   "source": [
    "#1 데이터 준비\n",
    "\n",
    "import os\n",
    "from PIL import Image\n",
    "import torch\n",
    "from torch.utils.data import Dataset, DataLoader\n",
    "from torchvision import transforms\n",
    "\n",
    "\n",
    "class CellImageDataset(Dataset):\n",
    "    def __init__(self, image_dir, transform=None):\n",
    "        self.image_dir = image_dir\n",
    "        self.transform = transform\n",
    "        self.image_files = [f for f in os.listdir(image_dir) if f.endswith('.png') or f.endswith('.jpg')]\n",
    "\n",
    "    def __len__(self):\n",
    "        return len(self.image_files)\n",
    "\n",
    "    def __getitem__(self, idx):\n",
    "        img_path = os.path.join(self.image_dir, self.image_files[idx])\n",
    "        image = Image.open(img_path).convert(\"RGB\")\n",
    "        if self.transform:\n",
    "            image = self.transform(image)\n",
    "        return image\n",
    "\n",
    "# 데이터 전처리\n",
    "transform = transforms.Compose([\n",
    "    transforms.Resize((256, 256)),\n",
    "    transforms.ToTensor(),\n",
    "    transforms.Normalize((0.5, 0.5, 0.5), (0.5, 0.5, 0.5))  # Normalize to [-1, 1]\n",
    "])\n",
    "\n",
    "dataset = CellImageDataset(image_dir=\"class_a3+\", transform=transform)\n",
    "dataloader = DataLoader(dataset, batch_size=4, shuffle=True)\n"
   ]
  },
  {
   "cell_type": "code",
   "execution_count": 6,
   "metadata": {},
   "outputs": [
    {
     "data": {
      "application/vnd.jupyter.widget-view+json": {
       "model_id": "7fc80f484a4a4fe0aef8bed3b76cd59a",
       "version_major": 2,
       "version_minor": 0
      },
      "text/plain": [
       "Loading pipeline components...:   0%|          | 0/2 [00:00<?, ?it/s]"
      ]
     },
     "metadata": {},
     "output_type": "display_data"
    }
   ],
   "source": [
    "#2\n",
    "from diffusers import DDPMPipeline, DDPMScheduler\n",
    "import torch.optim as optim\n",
    "\n",
    "# 모델 ID 설정\n",
    "model_id = \"google/ddpm-celebahq-256\"\n",
    "\n",
    "# CUDA 디바이스 설정\n",
    "device = torch.device(\"cuda\" if torch.cuda.is_available() else \"cpu\")\n",
    "\n",
    "# 모델 로드 및 디바이스로 이동\n",
    "ddpm = DDPMPipeline.from_pretrained(model_id, use_safetensors=False)\n",
    "ddpm.to(device)\n",
    "\n",
    "# Optimizer 및 Loss Function\n",
    "optimizer = optim.Adam(ddpm.unet.parameters(), lr=1e-5)  # Learning rate 조정 가능\n"
   ]
  },
  {
   "cell_type": "code",
   "execution_count": null,
   "metadata": {},
   "outputs": [],
   "source": [
    "# 3\n",
    "import torch.nn.functional as F\n",
    "from tqdm import tqdm\n",
    "import os\n",
    "import matplotlib.pyplot as plt\n",
    "\n",
    "# 학습 파라미터 설정\n",
    "num_epochs = 10  # 학습할 epoch 수\n",
    "log_interval = 10  # 로그를 출력할 interval\n",
    "\n",
    "# 모델을 학습 모드로 전환\n",
    "ddpm.unet.train()\n",
    "\n",
    "# 모델 저장 경로 설정 및 폴더 생성\n",
    "model_save_path = \"path_to_save_model\"\n",
    "os.makedirs(model_save_path, exist_ok=True)\n",
    "\n",
    "# 학습 루프\n",
    "for epoch in range(num_epochs):\n",
    "    for batch_idx, images in enumerate(tqdm(dataloader, desc=f\"Epoch {epoch+1}/{num_epochs}\")):\n",
    "        images = images.to(device)\n",
    "        \n",
    "        # Forward pass\n",
    "        noise = torch.randn_like(images).to(device)\n",
    "        timesteps = torch.randint(0, ddpm.scheduler.num_train_timesteps, (images.size(0),), device=device).long()\n",
    "        noisy_images = ddpm.scheduler.add_noise(images, noise, timesteps)\n",
    "        \n",
    "        # 모델 출력 계산\n",
    "        outputs = ddpm.unet(noisy_images, timesteps)[\"sample\"]\n",
    "        \n",
    "        # 손실 계산\n",
    "        loss = F.mse_loss(outputs, noise)\n",
    "        \n",
    "        # 역전파 및 최적화\n",
    "        optimizer.zero_grad()\n",
    "        loss.backward()\n",
    "        optimizer.step()\n",
    "        \n",
    "        if batch_idx % log_interval == 0:\n",
    "            print(f\"Epoch [{epoch+1}/{num_epochs}] Batch [{batch_idx}/{len(dataloader)}] Loss: {loss.item():.6f}\")\n",
    "\n",
    "    # 에포크 끝날 때마다 모델 저장\n",
    "    torch.save(ddpm.unet.state_dict(), os.path.join(model_save_path, f\"model4_epoch_{epoch+1}.pth\")) #저장될 .pth 이름 설정(업데이트 안하면 덮어쓰임)\n",
    "\n",
    "#4 모델 저장 \n",
    "torch.save(ddpm.unet.state_dict(), os.path.join(model_save_path, \"model4.pth\"))\n",
    "\n",
    "# #5 학습 완료 후 샘플 데이터 생성\n",
    "# ddpm.unet.eval()\n",
    "# sample_images = ddpm(num_inference_steps=50)[\"sample\"]\n",
    "# sample_images = sample_images.permute(0, 2, 3, 1)  # NCHW to NHWC\n",
    "# sample_images = (sample_images + 1) / 2.0  # [-1, 1] -> [0, 1]\n",
    "# sample_images = sample_images.clamp(0, 1)\n",
    "\n",
    "# # 샘플 이미지 저장\n",
    "# os.makedirs(\"generated_images\", exist_ok=True)\n",
    "# for i, img in enumerate(sample_images):\n",
    "#     plt.imsave(f\"generated_images/sample_{i}.png\", img.cpu().numpy())\n"
   ]
  },
  {
   "cell_type": "code",
   "execution_count": 6,
   "metadata": {},
   "outputs": [
    {
     "name": "stderr",
     "output_type": "stream",
     "text": [
      "Epoch 1/10:   0%|          | 0/5439 [00:00<?, ?it/s]c:\\Users\\MMC\\anaconda3\\envs\\MMC_3\\lib\\site-packages\\diffusers\\configuration_utils.py:134: FutureWarning: Accessing config attribute `num_train_timesteps` directly via 'DDPMScheduler' object attribute is deprecated. Please access 'num_train_timesteps' over 'DDPMScheduler's config object instead, e.g. 'scheduler.config.num_train_timesteps'.\n",
      "  deprecate(\"direct config name access\", \"1.0.0\", deprecation_message, standard_warn=False)\n",
      "Epoch 1/10:   0%|          | 1/5439 [00:10<16:04:40, 10.64s/it]"
     ]
    },
    {
     "name": "stdout",
     "output_type": "stream",
     "text": [
      "Epoch [1/10] Batch [0/5439] Loss: 0.008525\n"
     ]
    },
    {
     "name": "stderr",
     "output_type": "stream",
     "text": [
      "Epoch 1/10:   0%|          | 11/5439 [00:48<5:36:07,  3.72s/it]"
     ]
    },
    {
     "name": "stdout",
     "output_type": "stream",
     "text": [
      "Epoch [1/10] Batch [10/5439] Loss: 0.001165\n"
     ]
    },
    {
     "name": "stderr",
     "output_type": "stream",
     "text": [
      "Epoch 1/10:   0%|          | 21/5439 [01:24<5:23:27,  3.58s/it]"
     ]
    },
    {
     "name": "stdout",
     "output_type": "stream",
     "text": [
      "Epoch [1/10] Batch [20/5439] Loss: 0.000340\n"
     ]
    },
    {
     "name": "stderr",
     "output_type": "stream",
     "text": [
      "Epoch 1/10:   1%|          | 31/5439 [02:01<5:25:59,  3.62s/it]"
     ]
    },
    {
     "name": "stdout",
     "output_type": "stream",
     "text": [
      "Epoch [1/10] Batch [30/5439] Loss: 0.011017\n"
     ]
    },
    {
     "name": "stderr",
     "output_type": "stream",
     "text": [
      "Epoch 1/10:   1%|          | 40/5439 [02:34<5:47:45,  3.86s/it]\n"
     ]
    },
    {
     "ename": "KeyboardInterrupt",
     "evalue": "",
     "output_type": "error",
     "traceback": [
      "\u001b[1;31m---------------------------------------------------------------------------\u001b[0m",
      "\u001b[1;31mKeyboardInterrupt\u001b[0m                         Traceback (most recent call last)",
      "\u001b[1;32m~\\AppData\\Local\\Temp\\ipykernel_5268\\3617505778.py\u001b[0m in \u001b[0;36m<module>\u001b[1;34m\u001b[0m\n\u001b[0;32m     24\u001b[0m \u001b[1;33m\u001b[0m\u001b[0m\n\u001b[0;32m     25\u001b[0m         \u001b[1;31m# 손실 계산\u001b[0m\u001b[1;33m\u001b[0m\u001b[1;33m\u001b[0m\u001b[1;33m\u001b[0m\u001b[0m\n\u001b[1;32m---> 26\u001b[1;33m         \u001b[0mloss\u001b[0m \u001b[1;33m=\u001b[0m \u001b[0mF\u001b[0m\u001b[1;33m.\u001b[0m\u001b[0mmse_loss\u001b[0m\u001b[1;33m(\u001b[0m\u001b[0moutputs\u001b[0m\u001b[1;33m,\u001b[0m \u001b[0mnoise\u001b[0m\u001b[1;33m)\u001b[0m\u001b[1;33m\u001b[0m\u001b[1;33m\u001b[0m\u001b[0m\n\u001b[0m\u001b[0;32m     27\u001b[0m \u001b[1;33m\u001b[0m\u001b[0m\n\u001b[0;32m     28\u001b[0m         \u001b[1;31m# 역전파 및 최적화\u001b[0m\u001b[1;33m\u001b[0m\u001b[1;33m\u001b[0m\u001b[1;33m\u001b[0m\u001b[0m\n",
      "\u001b[1;32mc:\\Users\\MMC\\anaconda3\\envs\\MMC_3\\lib\\site-packages\\torch\\nn\\functional.py\u001b[0m in \u001b[0;36mmse_loss\u001b[1;34m(input, target, size_average, reduce, reduction)\u001b[0m\n\u001b[0;32m   3290\u001b[0m \u001b[1;33m\u001b[0m\u001b[0m\n\u001b[0;32m   3291\u001b[0m     \u001b[0mexpanded_input\u001b[0m\u001b[1;33m,\u001b[0m \u001b[0mexpanded_target\u001b[0m \u001b[1;33m=\u001b[0m \u001b[0mtorch\u001b[0m\u001b[1;33m.\u001b[0m\u001b[0mbroadcast_tensors\u001b[0m\u001b[1;33m(\u001b[0m\u001b[0minput\u001b[0m\u001b[1;33m,\u001b[0m \u001b[0mtarget\u001b[0m\u001b[1;33m)\u001b[0m\u001b[1;33m\u001b[0m\u001b[1;33m\u001b[0m\u001b[0m\n\u001b[1;32m-> 3292\u001b[1;33m     \u001b[1;32mreturn\u001b[0m \u001b[0mtorch\u001b[0m\u001b[1;33m.\u001b[0m\u001b[0m_C\u001b[0m\u001b[1;33m.\u001b[0m\u001b[0m_nn\u001b[0m\u001b[1;33m.\u001b[0m\u001b[0mmse_loss\u001b[0m\u001b[1;33m(\u001b[0m\u001b[0mexpanded_input\u001b[0m\u001b[1;33m,\u001b[0m \u001b[0mexpanded_target\u001b[0m\u001b[1;33m,\u001b[0m \u001b[0m_Reduction\u001b[0m\u001b[1;33m.\u001b[0m\u001b[0mget_enum\u001b[0m\u001b[1;33m(\u001b[0m\u001b[0mreduction\u001b[0m\u001b[1;33m)\u001b[0m\u001b[1;33m)\u001b[0m\u001b[1;33m\u001b[0m\u001b[1;33m\u001b[0m\u001b[0m\n\u001b[0m\u001b[0;32m   3293\u001b[0m \u001b[1;33m\u001b[0m\u001b[0m\n\u001b[0;32m   3294\u001b[0m \u001b[1;33m\u001b[0m\u001b[0m\n",
      "\u001b[1;31mKeyboardInterrupt\u001b[0m: "
     ]
    }
   ],
   "source": [
    "# #3\n",
    "# import torch.nn.functional as F\n",
    "# from tqdm import tqdm\n",
    "\n",
    "# # 학습 파라미터 설정\n",
    "# num_epochs = 10  # 학습할 epoch 수\n",
    "# log_interval = 10  # 로그를 출력할 interval\n",
    "\n",
    "# # 모델을 학습 모드로 전환\n",
    "# ddpm.unet.train()\n",
    "\n",
    "# # 학습 루프\n",
    "# for epoch in range(num_epochs):\n",
    "#     for batch_idx, images in enumerate(tqdm(dataloader, desc=f\"Epoch {epoch+1}/{num_epochs}\")):\n",
    "#         images = images.to(device)\n",
    "        \n",
    "#         # Forward pass\n",
    "#         noise = torch.randn_like(images).to(device)\n",
    "#         timesteps = torch.randint(0, ddpm.scheduler.num_train_timesteps, (images.size(0),), device=device).long()\n",
    "#         noisy_images = ddpm.scheduler.add_noise(images, noise, timesteps)\n",
    "        \n",
    "#         # 모델 출력 계산\n",
    "#         outputs = ddpm.unet(noisy_images, timesteps)[\"sample\"]\n",
    "        \n",
    "#         # 손실 계산\n",
    "#         loss = F.mse_loss(outputs, noise)\n",
    "        \n",
    "#         # 역전파 및 최적화\n",
    "#         optimizer.zero_grad()\n",
    "#         loss.backward()\n",
    "#         optimizer.step()\n",
    "        \n",
    "#         if batch_idx % log_interval == 0:\n",
    "#             print(f\"Epoch [{epoch+1}/{num_epochs}] Batch [{batch_idx}/{len(dataloader)}] Loss: {loss.item():.6f}\")\n",
    "\n",
    "# #4 모델 저장\n",
    "# ddpm.unet.save_pretrained(\"path_to_save_model\")\n",
    "\n",
    "# #5 학습 완료 후 샘플 데이터 생성\n",
    "# ddpm.unet.eval()\n",
    "# sample_images = ddpm(num_inference_steps=50)[\"sample\"]\n",
    "# sample_images = sample_images.permute(0, 2, 3, 1)  # NCHW to NHWC\n",
    "# sample_images = (sample_images + 1) / 2.0  # [-1, 1] -> [0, 1]\n",
    "# sample_images = sample_images.clamp(0, 1)\n",
    "\n",
    "# # 샘플 이미지 저장\n",
    "# import matplotlib.pyplot as plt\n",
    "\n",
    "# os.makedirs(\"generated_images\", exist_ok=True)\n",
    "# for i, img in enumerate(sample_images):\n",
    "#     plt.imsave(f\"generated_images/sample_{i}.png\", img.cpu().numpy())\n"
   ]
  }
 ],
 "metadata": {
  "kernelspec": {
   "display_name": "MMC_3",
   "language": "python",
   "name": "python3"
  },
  "language_info": {
   "codemirror_mode": {
    "name": "ipython",
    "version": 3
   },
   "file_extension": ".py",
   "mimetype": "text/x-python",
   "name": "python",
   "nbconvert_exporter": "python",
   "pygments_lexer": "ipython3",
   "version": "3.7.12"
  }
 },
 "nbformat": 4,
 "nbformat_minor": 2
}
